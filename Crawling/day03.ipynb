{
 "cells": [
  {
   "cell_type": "code",
   "execution_count": 19,
   "metadata": {},
   "outputs": [
    {
     "data": {
      "text/plain": [
       "'61,600'"
      ]
     },
     "execution_count": 19,
     "metadata": {},
     "output_type": "execute_result"
    }
   ],
   "source": [
    "###################################################################\n",
    "####################### 삼성전자 주가 ##############################\n",
    "\n",
    "import requests     # 웹 페이지 읽어오기\n",
    "from bs4 import BeautifulSoup as bs   # 데이터 분석을 용이하게 정제\n",
    "\n",
    "url = 'https://finance.naver.com/item/main.nhn?code=005930'\n",
    "txt = requests.get(url)    \n",
    "html = bs(txt.text)\n",
    "\n",
    "html.select('em.no_up > span.blind')[0].text\n"
   ]
  },
  {
   "cell_type": "code",
   "execution_count": 21,
   "metadata": {},
   "outputs": [
    {
     "name": "stderr",
     "output_type": "stream",
     "text": [
      "Matplotlib is building the font cache; this may take a moment.\n"
     ]
    },
    {
     "data": {
      "text/html": [
       "<div>\n",
       "<style scoped>\n",
       "    .dataframe tbody tr th:only-of-type {\n",
       "        vertical-align: middle;\n",
       "    }\n",
       "\n",
       "    .dataframe tbody tr th {\n",
       "        vertical-align: top;\n",
       "    }\n",
       "\n",
       "    .dataframe thead th {\n",
       "        text-align: right;\n",
       "    }\n",
       "</style>\n",
       "<table border=\"1\" class=\"dataframe\">\n",
       "  <thead>\n",
       "    <tr style=\"text-align: right;\">\n",
       "      <th></th>\n",
       "      <th>시가</th>\n",
       "      <th>고가</th>\n",
       "      <th>저가</th>\n",
       "      <th>종가</th>\n",
       "      <th>거래량</th>\n",
       "      <th>거래대금</th>\n",
       "      <th>등락률</th>\n",
       "    </tr>\n",
       "    <tr>\n",
       "      <th>날짜</th>\n",
       "      <th></th>\n",
       "      <th></th>\n",
       "      <th></th>\n",
       "      <th></th>\n",
       "      <th></th>\n",
       "      <th></th>\n",
       "      <th></th>\n",
       "    </tr>\n",
       "  </thead>\n",
       "  <tbody>\n",
       "    <tr>\n",
       "      <th>2023-03-02</th>\n",
       "      <td>60900</td>\n",
       "      <td>61400</td>\n",
       "      <td>60800</td>\n",
       "      <td>61400</td>\n",
       "      <td>2104116</td>\n",
       "      <td>128524163900</td>\n",
       "      <td>1.32</td>\n",
       "    </tr>\n",
       "  </tbody>\n",
       "</table>\n",
       "</div>"
      ],
      "text/plain": [
       "               시가     고가     저가     종가      거래량          거래대금   등락률\n",
       "날짜                                                                 \n",
       "2023-03-02  60900  61400  60800  61400  2104116  128524163900  1.32"
      ]
     },
     "execution_count": 21,
     "metadata": {},
     "output_type": "execute_result"
    }
   ],
   "source": [
    "#!pip install pykrx\n",
    "\n",
    "from pykrx import stock\n",
    "stock.get_market_ohlcv('20230302','20230302','005930')"
   ]
  },
  {
   "cell_type": "code",
   "execution_count": 23,
   "metadata": {},
   "outputs": [
    {
     "name": "stdout",
     "output_type": "stream",
     "text": [
      "[*********************100%***********************]  1 of 1 completed\n"
     ]
    },
    {
     "data": {
      "text/html": [
       "<div>\n",
       "<style scoped>\n",
       "    .dataframe tbody tr th:only-of-type {\n",
       "        vertical-align: middle;\n",
       "    }\n",
       "\n",
       "    .dataframe tbody tr th {\n",
       "        vertical-align: top;\n",
       "    }\n",
       "\n",
       "    .dataframe thead th {\n",
       "        text-align: right;\n",
       "    }\n",
       "</style>\n",
       "<table border=\"1\" class=\"dataframe\">\n",
       "  <thead>\n",
       "    <tr style=\"text-align: right;\">\n",
       "      <th></th>\n",
       "      <th>Open</th>\n",
       "      <th>High</th>\n",
       "      <th>Low</th>\n",
       "      <th>Close</th>\n",
       "      <th>Adj Close</th>\n",
       "      <th>Volume</th>\n",
       "    </tr>\n",
       "    <tr>\n",
       "      <th>Date</th>\n",
       "      <th></th>\n",
       "      <th></th>\n",
       "      <th></th>\n",
       "      <th></th>\n",
       "      <th></th>\n",
       "      <th></th>\n",
       "    </tr>\n",
       "  </thead>\n",
       "  <tbody>\n",
       "    <tr>\n",
       "      <th>2023-02-28</th>\n",
       "      <td>210.589996</td>\n",
       "      <td>211.229996</td>\n",
       "      <td>203.750000</td>\n",
       "      <td>205.710007</td>\n",
       "      <td>205.710007</td>\n",
       "      <td>153144900</td>\n",
       "    </tr>\n",
       "    <tr>\n",
       "      <th>2023-03-01</th>\n",
       "      <td>206.210007</td>\n",
       "      <td>207.198700</td>\n",
       "      <td>198.520401</td>\n",
       "      <td>202.770004</td>\n",
       "      <td>202.770004</td>\n",
       "      <td>147701973</td>\n",
       "    </tr>\n",
       "  </tbody>\n",
       "</table>\n",
       "</div>"
      ],
      "text/plain": [
       "                  Open        High         Low       Close   Adj Close  \\\n",
       "Date                                                                     \n",
       "2023-02-28  210.589996  211.229996  203.750000  205.710007  205.710007   \n",
       "2023-03-01  206.210007  207.198700  198.520401  202.770004  202.770004   \n",
       "\n",
       "               Volume  \n",
       "Date                   \n",
       "2023-02-28  153144900  \n",
       "2023-03-01  147701973  "
      ]
     },
     "execution_count": 23,
     "metadata": {},
     "output_type": "execute_result"
    }
   ],
   "source": [
    "#pip install yfinance\n",
    "\n",
    "import yfinance as yf\n",
    "yf.download('TSLA', start='2023-02-28')"
   ]
  },
  {
   "cell_type": "code",
   "execution_count": 31,
   "metadata": {},
   "outputs": [
    {
     "name": "stderr",
     "output_type": "stream",
     "text": [
      "C:\\Users\\tlaru\\AppData\\Local\\Temp\\ipykernel_9160\\1078008065.py:10: DeprecationWarning: executable_path has been deprecated, please pass in a Service object\n",
      "  driver = webdriver.Chrome('chromedriver.exe')  # 버전 주의\n"
     ]
    },
    {
     "data": {
      "text/plain": [
       "'31,126,000'"
      ]
     },
     "execution_count": 31,
     "metadata": {},
     "output_type": "execute_result"
    }
   ],
   "source": [
    "##########################################################\n",
    "################    비트코인   ####################\n",
    "\n",
    "\n",
    "from selenium import webdriver        # 웹 브라우저 컨트롤 (크롬)\n",
    "from bs4 import BeautifulSoup as bs   # 데이터 분석을 용이하게 정제\n",
    "import pandas as pd                   # 데이터 분석 관련 모듈\n",
    "import time\n",
    "\n",
    "driver = webdriver.Chrome('chromedriver.exe')  # 버전 주의\n",
    "url = 'https://www.bithumb.com/trade/order/BTC_KRW'\n",
    "driver.get(url)\n",
    "\n",
    "txt = driver.page_source      # 이때 읽어온 데이터는 그냥 글자\n",
    "html = bs(txt)\n",
    "\n",
    "html.select('h3.color_blue')[0].text"
   ]
  },
  {
   "cell_type": "code",
   "execution_count": 36,
   "metadata": {},
   "outputs": [
    {
     "name": "stdout",
     "output_type": "stream",
     "text": [
      "['BTC', 'ETH', 'ETC', 'XRP', 'BCH', 'QTUM', 'BTG', 'EOS', 'ICX', 'TRX', 'ELF', 'OMG', 'KNC', 'GLM', 'ZIL', 'WAXP', 'POWR', 'LRC', 'STEEM', 'STRAX', 'ZRX', 'REP', 'SNT', 'ADA', 'CTXC', 'BAT', 'THETA', 'LOOM', 'WAVES', 'LINK', 'ENJ', 'VET', 'MTL', 'IOST', 'QKC', 'ATOLO', 'AMO', 'BSV', 'ORBS', 'TFUEL', 'VALOR', 'CON', 'ANKR', 'MIX', 'CRO', 'FX', 'CHR', 'MBL', 'MXC', 'FCT2', 'TRV', 'WOM', 'SOC', 'BOA', 'MEV', 'SXP', 'COS', 'EL', 'BASIC', 'HIVE', 'XPR', 'VRA', 'FIT', 'EGG', 'BORA', 'ARPA', 'CTC', 'APM', 'CKB', 'AERGO', 'CENNZ', 'EVZ', 'SRM', 'QTCON', 'UNI', 'YFI', 'UMA', 'AAVE', 'COMP', 'REN', 'BAL', 'RSR', 'NMR', 'RLC', 'UOS', 'SAND', 'GOM2', 'BEL', 'OBSR', 'ORC', 'POLA', 'ADP', 'DVI', 'GHX', 'MVC', 'BLY', 'WOZX', 'ANV', 'GRT', 'BIOT', 'XNO', 'SNX', 'SOFI', 'COLA', 'OXT', 'LINA', 'MAP', 'AQT', 'PLA', 'WIKEN', 'CTSI', 'MANA', 'LPT', 'MKR', 'SUSHI', 'ASM', 'PUNDIX', 'CELR', 'ARW', 'FRONT', 'RLY', 'OCEAN', 'BFC', 'ALICE', 'OGN', 'COTI', 'CAKE', 'BNT', 'XVS', 'SWAP', 'CHZ', 'AXS', 'DAO', 'SIX', 'DAI', 'SHIB', 'MATIC', 'WOO', 'ACH', 'VELO', 'XLM', 'WICC', 'ONT', 'META', 'KLAY', 'ONG', 'ALGO', 'JST', 'XTZ', 'MLK', 'DOT', 'ATOM', 'SSX', 'TEMCO', 'HIBS', 'DOGE', 'KSM', 'CTK', 'XYM', 'BNB', 'NFT', 'SUN', 'XEC', 'PCI', 'SOL', 'LN', 'EGLD', 'GO', 'DFA', 'C98', 'MED', '1INCH', 'BOBA', 'GALA', 'BTT', 'EFI', 'JASMY', 'TITAN', 'REQ', 'CSPR', 'AVAX', 'TDROP', 'NPT', 'REI', 'T', 'MBX', 'GMT', 'TAVA', 'DAR', 'ALT', 'XCN', 'GXA', 'AZIT', 'FLR', 'SFP', 'FITFI', 'STAT', 'CRTS', 'VIX', 'LBL', 'LM', 'BLUR']\n",
      "202\n",
      "31076000.0\n"
     ]
    }
   ],
   "source": [
    "##############################################################\n",
    "##############   bithumb API ################################\n",
    "\n",
    "#!pip install pybithumb 빗썸에서 제공하는 api 설치\n",
    "\n",
    "import pybithumb as pb\n",
    "\n",
    "print(pb.get_tickers())\n",
    "\n",
    "print(len(pb.get_tickers()))\n",
    "\n",
    "print(pb.get_current_price(\"BTC\")) #비트코인가격\n"
   ]
  },
  {
   "cell_type": "code",
   "execution_count": 37,
   "metadata": {},
   "outputs": [
    {
     "name": "stdout",
     "output_type": "stream",
     "text": [
      "31057000.0\n",
      "31057000.0\n",
      "31069000.0\n",
      "31063000.0\n",
      "31056000.0\n",
      "31056000.0\n"
     ]
    },
    {
     "ename": "KeyboardInterrupt",
     "evalue": "",
     "output_type": "error",
     "traceback": [
      "\u001b[1;31m---------------------------------------------------------------------------\u001b[0m",
      "\u001b[1;31mKeyboardInterrupt\u001b[0m                         Traceback (most recent call last)",
      "\u001b[1;32m~\\AppData\\Local\\Temp\\ipykernel_9160\\2437174307.py\u001b[0m in \u001b[0;36m<module>\u001b[1;34m\u001b[0m\n\u001b[0;32m      3\u001b[0m \u001b[1;32mwhile\u001b[0m \u001b[1;32mTrue\u001b[0m\u001b[1;33m:\u001b[0m\u001b[1;33m\u001b[0m\u001b[1;33m\u001b[0m\u001b[0m\n\u001b[0;32m      4\u001b[0m     \u001b[0mprint\u001b[0m\u001b[1;33m(\u001b[0m\u001b[0mpb\u001b[0m\u001b[1;33m.\u001b[0m\u001b[0mget_current_price\u001b[0m\u001b[1;33m(\u001b[0m\u001b[1;34m\"BTC\"\u001b[0m\u001b[1;33m)\u001b[0m\u001b[1;33m)\u001b[0m\u001b[1;33m\u001b[0m\u001b[1;33m\u001b[0m\u001b[0m\n\u001b[1;32m----> 5\u001b[1;33m     \u001b[0mtime\u001b[0m\u001b[1;33m.\u001b[0m\u001b[0msleep\u001b[0m\u001b[1;33m(\u001b[0m\u001b[1;36m3\u001b[0m\u001b[1;33m)\u001b[0m\u001b[1;33m\u001b[0m\u001b[1;33m\u001b[0m\u001b[0m\n\u001b[0m",
      "\u001b[1;31mKeyboardInterrupt\u001b[0m: "
     ]
    }
   ],
   "source": [
    "#비트코인 가격 반복 조회\n",
    "\n",
    "while True:\n",
    "    print(pb.get_current_price(\"BTC\"))\n",
    "    time.sleep(3)"
   ]
  },
  {
   "cell_type": "code",
   "execution_count": 41,
   "metadata": {},
   "outputs": [
    {
     "name": "stdout",
     "output_type": "stream",
     "text": [
      "BTC 31089000.0\n",
      "ETH 2182000.0\n",
      "ETC 27890.0\n",
      "XRP 501.7\n",
      "BCH 176400.0\n",
      "QTUM 4422.0\n",
      "BTG 22440.0\n",
      "EOS 1573.0\n",
      "ICX 342.2\n",
      "TRX 91.91\n",
      "ELF 367.3\n",
      "OMG 2259.0\n"
     ]
    },
    {
     "ename": "KeyboardInterrupt",
     "evalue": "",
     "output_type": "error",
     "traceback": [
      "\u001b[1;31m---------------------------------------------------------------------------\u001b[0m",
      "\u001b[1;31mKeyboardInterrupt\u001b[0m                         Traceback (most recent call last)",
      "\u001b[1;32m~\\AppData\\Local\\Temp\\ipykernel_9160\\429433671.py\u001b[0m in \u001b[0;36m<module>\u001b[1;34m\u001b[0m\n\u001b[0;32m      5\u001b[0m \u001b[1;32mfor\u001b[0m \u001b[0mticker\u001b[0m \u001b[1;32min\u001b[0m \u001b[0mtickers\u001b[0m\u001b[1;33m:\u001b[0m\u001b[1;33m\u001b[0m\u001b[1;33m\u001b[0m\u001b[0m\n\u001b[0;32m      6\u001b[0m     \u001b[0mprint\u001b[0m\u001b[1;33m(\u001b[0m\u001b[0mticker\u001b[0m\u001b[1;33m,\u001b[0m \u001b[0mpb\u001b[0m\u001b[1;33m.\u001b[0m\u001b[0mget_current_price\u001b[0m\u001b[1;33m(\u001b[0m\u001b[0mticker\u001b[0m\u001b[1;33m)\u001b[0m\u001b[1;33m)\u001b[0m\u001b[1;33m\u001b[0m\u001b[1;33m\u001b[0m\u001b[0m\n\u001b[1;32m----> 7\u001b[1;33m     \u001b[0mtime\u001b[0m\u001b[1;33m.\u001b[0m\u001b[0msleep\u001b[0m\u001b[1;33m(\u001b[0m\u001b[1;36m1\u001b[0m\u001b[1;33m)\u001b[0m\u001b[1;33m\u001b[0m\u001b[1;33m\u001b[0m\u001b[0m\n\u001b[0m",
      "\u001b[1;31mKeyboardInterrupt\u001b[0m: "
     ]
    }
   ],
   "source": [
    "#모든 코인 가격 조회\n",
    "\n",
    "tickers = pb.get_tickers()\n",
    "\n",
    "for ticker in tickers:\n",
    "    print(ticker, pb.get_current_price(ticker))\n",
    "    time.sleep(1)"
   ]
  },
  {
   "cell_type": "code",
   "execution_count": 42,
   "metadata": {},
   "outputs": [
    {
     "name": "stdout",
     "output_type": "stream",
     "text": [
      "BTC 31106000.0\n",
      "ETH 2182000.0\n",
      "ETC 27910.0\n",
      "XRP 501.6\n",
      "BCH 175600.0\n",
      "QTUM 4404.0\n",
      "BTG 22430.0\n",
      "EOS 1576.0\n",
      "ICX 340.8\n",
      "TRX 91.95\n",
      "ELF 368.3\n",
      "OMG 2250.0\n",
      "KNC 1120.0\n",
      "GLM 357.4\n",
      "예외가 발생되었습니다\n"
     ]
    }
   ],
   "source": [
    "#네트워크를 이용하는 경우에는 특히 에러 즉 예외가 발생할 경우가 상당히 많다.\n",
    "#따라서 1)time.sleep()을 이용한 시간 지연\n",
    "#      2)try except 을 이용한 예외 처리가 중요하다.\n",
    "\n",
    "\n",
    "\n",
    "tickers = pb.get_tickers()\n",
    "\n",
    "try:\n",
    "    for ticker in tickers:\n",
    "        print(ticker, pb.get_current_price(ticker))\n",
    "        time.sleep(1)\n",
    "except :\n",
    "    print(\"예외가 발생되었습니다\")"
   ]
  },
  {
   "cell_type": "code",
   "execution_count": null,
   "metadata": {},
   "outputs": [],
   "source": [
    "#상승장 하락장 알람 프로그램\n",
    "\n",
    "#이동평균선을 사용: 이동 평균 값보다 현재가가 높다면 상승장\n",
    "\n",
    "#이동 평균 값 보다 현재가가 낮으면 하락장"
   ]
  },
  {
   "cell_type": "code",
   "execution_count": 47,
   "metadata": {},
   "outputs": [
    {
     "name": "stdout",
     "output_type": "stream",
     "text": [
      "time\n",
      "2013-12-27 00:00:00      755000.0\n",
      "2013-12-28 00:00:00      750000.0\n",
      "2013-12-29 00:00:00      739000.0\n",
      "2013-12-30 00:00:00      768000.0\n",
      "2013-12-31 00:00:00      768000.0\n",
      "                          ...    \n",
      "2023-02-26 00:00:00    30890000.0\n",
      "2023-02-27 00:00:00    31544000.0\n",
      "2023-02-28 00:00:00    31081000.0\n",
      "2023-03-01 00:00:00    31193000.0\n",
      "2023-03-02 11:00:00    31119000.0\n",
      "Name: close, Length: 3263, dtype: float64\n"
     ]
    }
   ],
   "source": [
    "#받아온 데이터는 기본적으로 데이터프레임이다.\n",
    "#데이터 프레임에서 한개의 열 즉 series\n",
    "\n",
    "btc=pb.get_ohlcv(\"BTC\")\n",
    "close = btc['close']\n",
    "print(close)"
   ]
  },
  {
   "cell_type": "code",
   "execution_count": 49,
   "metadata": {},
   "outputs": [
    {
     "name": "stdout",
     "output_type": "stream",
     "text": [
      "3165600.0\n",
      "3180400.0\n"
     ]
    }
   ],
   "source": [
    "#수동으로 이동평균 계산\n",
    "\n",
    "btc=pb.get_ohlcv(\"BTC\")\n",
    "close = btc['close']\n",
    "\n",
    "print(close[0]+close[1]+close[2]+close[3]+close[4]/5)\n",
    "print(close[1]+close[2]+close[3]+close[4]+close[5]/5)"
   ]
  },
  {
   "cell_type": "code",
   "execution_count": 50,
   "metadata": {},
   "outputs": [
    {
     "name": "stdout",
     "output_type": "stream",
     "text": [
      "time\n",
      "2013-12-27 00:00:00           NaN\n",
      "2013-12-28 00:00:00           NaN\n",
      "2013-12-29 00:00:00           NaN\n",
      "2013-12-30 00:00:00           NaN\n",
      "2013-12-31 00:00:00      756000.0\n",
      "                          ...    \n",
      "2023-02-26 00:00:00    31049000.0\n",
      "2023-02-27 00:00:00    31101400.0\n",
      "2023-02-28 00:00:00    31052600.0\n",
      "2023-03-01 00:00:00    31041200.0\n",
      "2023-03-02 11:00:00    31158000.0\n",
      "Name: close, Length: 3263, dtype: float64\n"
     ]
    }
   ],
   "source": [
    "#자동으로 이동평균 계산\n",
    "\n",
    "btc=pb.get_ohlcv(\"BTC\")\n",
    "close = btc['close']\n",
    "\n",
    "roll5 = close.rolling(5)\n",
    "mean5 = roll5.mean()\n",
    "print(mean5)"
   ]
  },
  {
   "cell_type": "code",
   "execution_count": 53,
   "metadata": {},
   "outputs": [
    {
     "name": "stdout",
     "output_type": "stream",
     "text": [
      "상승장\n"
     ]
    }
   ],
   "source": [
    "#상승장 하락장 파악\n",
    "btc=pb.get_ohlcv(\"BTC\")\n",
    "close = btc['close']\n",
    "\n",
    "roll5 = close.rolling(5)\n",
    "mean5 = roll5.mean()\n",
    "last_mean5 = mean5[-2]\n",
    "\n",
    "#비트코인 현재값\n",
    "price = pb.get_current_price('BTC')\n",
    "\n",
    "#비교\n",
    "\n",
    "if price > last_mean5:\n",
    "    print('상승장')\n",
    "else:\n",
    "    print('하락장')"
   ]
  },
  {
   "cell_type": "code",
   "execution_count": 2,
   "metadata": {},
   "outputs": [
    {
     "name": "stderr",
     "output_type": "stream",
     "text": [
      "C:\\Users\\tlaru\\AppData\\Local\\Temp\\ipykernel_5308\\1555179310.py:7: DeprecationWarning: executable_path has been deprecated, please pass in a Service object\n",
      "  driver = webdriver.Chrome('chromedriver.exe') # 버전 주의\n"
     ]
    }
   ],
   "source": [
    "import requests\n",
    "from selenium import webdriver # 웹 브라우저 컨트롤(크롬)\n",
    "from bs4 import BeautifulSoup as bs # 데이터 분석을 용이하게 정제\n",
    "import pandas as pd \n",
    "import time\n",
    "from selenium.webdriver.common.by import By\n",
    "driver = webdriver.Chrome('chromedriver.exe') # 버전 주의\n",
    "url = 'https://www.starbucks.co.kr/store/store_map.do'\n",
    "driver.get(url)\n",
    "time.sleep(3) # 3초간 대기\n",
    "txt = driver.page_source # 이 때 읽어온 데이터는 그냥 글자\n",
    "html = bs(txt)# 파이썬으로 브라우저에서 단추 클릭하기\n"
   ]
  },
  {
   "cell_type": "code",
   "execution_count": 3,
   "metadata": {},
   "outputs": [
    {
     "ename": "ElementClickInterceptedException",
     "evalue": "Message: element click intercepted: Element <a href=\"javascript:void(0);\">...</a> is not clickable at point (245, 277). Other element would receive the click: <div class=\"loading_dimm\" style=\"z-index: 20000; display: block;\"></div>\n  (Session info: chrome=110.0.5481.178)\nStacktrace:\nBacktrace:\n\t(No symbol) [0x00C037D3]\n\t(No symbol) [0x00B98B81]\n\t(No symbol) [0x00A9B36D]\n\t(No symbol) [0x00AD4E3B]\n\t(No symbol) [0x00AD26DB]\n\t(No symbol) [0x00ACFD0B]\n\t(No symbol) [0x00ACE4D8]\n\t(No symbol) [0x00AC3253]\n\t(No symbol) [0x00AEB41C]\n\t(No symbol) [0x00AC2B96]\n\t(No symbol) [0x00AEB774]\n\t(No symbol) [0x00B01215]\n\t(No symbol) [0x00AEB216]\n\t(No symbol) [0x00AC0D97]\n\t(No symbol) [0x00AC253D]\n\tGetHandleVerifier [0x00E7ABF2+2510930]\n\tGetHandleVerifier [0x00EA8EC1+2700065]\n\tGetHandleVerifier [0x00EAC86C+2714828]\n\tGetHandleVerifier [0x00CB3480+645344]\n\t(No symbol) [0x00BA0FD2]\n\t(No symbol) [0x00BA6C68]\n\t(No symbol) [0x00BA6D4B]\n\t(No symbol) [0x00BB0D6B]\n\tBaseThreadInitThunk [0x765D00F9+25]\n\tRtlGetAppContainerNamedObjectPath [0x77057BBE+286]\n\tRtlGetAppContainerNamedObjectPath [0x77057B8E+238]\n",
     "output_type": "error",
     "traceback": [
      "\u001b[1;31m---------------------------------------------------------------------------\u001b[0m",
      "\u001b[1;31mElementClickInterceptedException\u001b[0m          Traceback (most recent call last)",
      "\u001b[1;32m~\\AppData\\Local\\Temp\\ipykernel_5308\\3707856628.py\u001b[0m in \u001b[0;36m<module>\u001b[1;34m\u001b[0m\n\u001b[0;32m      2\u001b[0m \u001b[1;33m\u001b[0m\u001b[0m\n\u001b[0;32m      3\u001b[0m \u001b[0marea_btn\u001b[0m \u001b[1;33m=\u001b[0m \u001b[1;34m'#container > div > form > fieldset > div > section > article.find_store_cont > article > header.loca_search > h3 > a'\u001b[0m\u001b[1;33m\u001b[0m\u001b[1;33m\u001b[0m\u001b[0m\n\u001b[1;32m----> 4\u001b[1;33m \u001b[0mdriver\u001b[0m\u001b[1;33m.\u001b[0m\u001b[0mfind_element\u001b[0m\u001b[1;33m(\u001b[0m\u001b[0mBy\u001b[0m\u001b[1;33m.\u001b[0m\u001b[0mCSS_SELECTOR\u001b[0m\u001b[1;33m,\u001b[0m \u001b[0marea_btn\u001b[0m\u001b[1;33m)\u001b[0m\u001b[1;33m.\u001b[0m\u001b[0mclick\u001b[0m\u001b[1;33m(\u001b[0m\u001b[1;33m)\u001b[0m\u001b[1;33m\u001b[0m\u001b[1;33m\u001b[0m\u001b[0m\n\u001b[0m\u001b[0;32m      5\u001b[0m \u001b[1;33m\u001b[0m\u001b[0m\n\u001b[0;32m      6\u001b[0m \u001b[0mtime\u001b[0m\u001b[1;33m.\u001b[0m\u001b[0msleep\u001b[0m\u001b[1;33m(\u001b[0m\u001b[1;36m2\u001b[0m\u001b[1;33m)\u001b[0m\u001b[1;33m\u001b[0m\u001b[1;33m\u001b[0m\u001b[0m\n",
      "\u001b[1;32mc:\\Users\\tlaru\\anaconda3\\lib\\site-packages\\selenium\\webdriver\\remote\\webelement.py\u001b[0m in \u001b[0;36mclick\u001b[1;34m(self)\u001b[0m\n\u001b[0;32m     91\u001b[0m     \u001b[1;32mdef\u001b[0m \u001b[0mclick\u001b[0m\u001b[1;33m(\u001b[0m\u001b[0mself\u001b[0m\u001b[1;33m)\u001b[0m \u001b[1;33m->\u001b[0m \u001b[1;32mNone\u001b[0m\u001b[1;33m:\u001b[0m\u001b[1;33m\u001b[0m\u001b[1;33m\u001b[0m\u001b[0m\n\u001b[0;32m     92\u001b[0m         \u001b[1;34m\"\"\"Clicks the element.\"\"\"\u001b[0m\u001b[1;33m\u001b[0m\u001b[1;33m\u001b[0m\u001b[0m\n\u001b[1;32m---> 93\u001b[1;33m         \u001b[0mself\u001b[0m\u001b[1;33m.\u001b[0m\u001b[0m_execute\u001b[0m\u001b[1;33m(\u001b[0m\u001b[0mCommand\u001b[0m\u001b[1;33m.\u001b[0m\u001b[0mCLICK_ELEMENT\u001b[0m\u001b[1;33m)\u001b[0m\u001b[1;33m\u001b[0m\u001b[1;33m\u001b[0m\u001b[0m\n\u001b[0m\u001b[0;32m     94\u001b[0m \u001b[1;33m\u001b[0m\u001b[0m\n\u001b[0;32m     95\u001b[0m     \u001b[1;32mdef\u001b[0m \u001b[0msubmit\u001b[0m\u001b[1;33m(\u001b[0m\u001b[0mself\u001b[0m\u001b[1;33m)\u001b[0m\u001b[1;33m:\u001b[0m\u001b[1;33m\u001b[0m\u001b[1;33m\u001b[0m\u001b[0m\n",
      "\u001b[1;32mc:\\Users\\tlaru\\anaconda3\\lib\\site-packages\\selenium\\webdriver\\remote\\webelement.py\u001b[0m in \u001b[0;36m_execute\u001b[1;34m(self, command, params)\u001b[0m\n\u001b[0;32m    401\u001b[0m             \u001b[0mparams\u001b[0m \u001b[1;33m=\u001b[0m \u001b[1;33m{\u001b[0m\u001b[1;33m}\u001b[0m\u001b[1;33m\u001b[0m\u001b[1;33m\u001b[0m\u001b[0m\n\u001b[0;32m    402\u001b[0m         \u001b[0mparams\u001b[0m\u001b[1;33m[\u001b[0m\u001b[1;34m\"id\"\u001b[0m\u001b[1;33m]\u001b[0m \u001b[1;33m=\u001b[0m \u001b[0mself\u001b[0m\u001b[1;33m.\u001b[0m\u001b[0m_id\u001b[0m\u001b[1;33m\u001b[0m\u001b[1;33m\u001b[0m\u001b[0m\n\u001b[1;32m--> 403\u001b[1;33m         \u001b[1;32mreturn\u001b[0m \u001b[0mself\u001b[0m\u001b[1;33m.\u001b[0m\u001b[0m_parent\u001b[0m\u001b[1;33m.\u001b[0m\u001b[0mexecute\u001b[0m\u001b[1;33m(\u001b[0m\u001b[0mcommand\u001b[0m\u001b[1;33m,\u001b[0m \u001b[0mparams\u001b[0m\u001b[1;33m)\u001b[0m\u001b[1;33m\u001b[0m\u001b[1;33m\u001b[0m\u001b[0m\n\u001b[0m\u001b[0;32m    404\u001b[0m \u001b[1;33m\u001b[0m\u001b[0m\n\u001b[0;32m    405\u001b[0m     \u001b[1;32mdef\u001b[0m \u001b[0mfind_element\u001b[0m\u001b[1;33m(\u001b[0m\u001b[0mself\u001b[0m\u001b[1;33m,\u001b[0m \u001b[0mby\u001b[0m\u001b[1;33m=\u001b[0m\u001b[0mBy\u001b[0m\u001b[1;33m.\u001b[0m\u001b[0mID\u001b[0m\u001b[1;33m,\u001b[0m \u001b[0mvalue\u001b[0m\u001b[1;33m=\u001b[0m\u001b[1;32mNone\u001b[0m\u001b[1;33m)\u001b[0m \u001b[1;33m->\u001b[0m \u001b[0mWebElement\u001b[0m\u001b[1;33m:\u001b[0m\u001b[1;33m\u001b[0m\u001b[1;33m\u001b[0m\u001b[0m\n",
      "\u001b[1;32mc:\\Users\\tlaru\\anaconda3\\lib\\site-packages\\selenium\\webdriver\\remote\\webdriver.py\u001b[0m in \u001b[0;36mexecute\u001b[1;34m(self, driver_command, params)\u001b[0m\n\u001b[0;32m    438\u001b[0m         \u001b[0mresponse\u001b[0m \u001b[1;33m=\u001b[0m \u001b[0mself\u001b[0m\u001b[1;33m.\u001b[0m\u001b[0mcommand_executor\u001b[0m\u001b[1;33m.\u001b[0m\u001b[0mexecute\u001b[0m\u001b[1;33m(\u001b[0m\u001b[0mdriver_command\u001b[0m\u001b[1;33m,\u001b[0m \u001b[0mparams\u001b[0m\u001b[1;33m)\u001b[0m\u001b[1;33m\u001b[0m\u001b[1;33m\u001b[0m\u001b[0m\n\u001b[0;32m    439\u001b[0m         \u001b[1;32mif\u001b[0m \u001b[0mresponse\u001b[0m\u001b[1;33m:\u001b[0m\u001b[1;33m\u001b[0m\u001b[1;33m\u001b[0m\u001b[0m\n\u001b[1;32m--> 440\u001b[1;33m             \u001b[0mself\u001b[0m\u001b[1;33m.\u001b[0m\u001b[0merror_handler\u001b[0m\u001b[1;33m.\u001b[0m\u001b[0mcheck_response\u001b[0m\u001b[1;33m(\u001b[0m\u001b[0mresponse\u001b[0m\u001b[1;33m)\u001b[0m\u001b[1;33m\u001b[0m\u001b[1;33m\u001b[0m\u001b[0m\n\u001b[0m\u001b[0;32m    441\u001b[0m             \u001b[0mresponse\u001b[0m\u001b[1;33m[\u001b[0m\u001b[1;34m\"value\"\u001b[0m\u001b[1;33m]\u001b[0m \u001b[1;33m=\u001b[0m \u001b[0mself\u001b[0m\u001b[1;33m.\u001b[0m\u001b[0m_unwrap_value\u001b[0m\u001b[1;33m(\u001b[0m\u001b[0mresponse\u001b[0m\u001b[1;33m.\u001b[0m\u001b[0mget\u001b[0m\u001b[1;33m(\u001b[0m\u001b[1;34m\"value\"\u001b[0m\u001b[1;33m,\u001b[0m \u001b[1;32mNone\u001b[0m\u001b[1;33m)\u001b[0m\u001b[1;33m)\u001b[0m\u001b[1;33m\u001b[0m\u001b[1;33m\u001b[0m\u001b[0m\n\u001b[0;32m    442\u001b[0m             \u001b[1;32mreturn\u001b[0m \u001b[0mresponse\u001b[0m\u001b[1;33m\u001b[0m\u001b[1;33m\u001b[0m\u001b[0m\n",
      "\u001b[1;32mc:\\Users\\tlaru\\anaconda3\\lib\\site-packages\\selenium\\webdriver\\remote\\errorhandler.py\u001b[0m in \u001b[0;36mcheck_response\u001b[1;34m(self, response)\u001b[0m\n\u001b[0;32m    243\u001b[0m                 \u001b[0malert_text\u001b[0m \u001b[1;33m=\u001b[0m \u001b[0mvalue\u001b[0m\u001b[1;33m[\u001b[0m\u001b[1;34m\"alert\"\u001b[0m\u001b[1;33m]\u001b[0m\u001b[1;33m.\u001b[0m\u001b[0mget\u001b[0m\u001b[1;33m(\u001b[0m\u001b[1;34m\"text\"\u001b[0m\u001b[1;33m)\u001b[0m\u001b[1;33m\u001b[0m\u001b[1;33m\u001b[0m\u001b[0m\n\u001b[0;32m    244\u001b[0m             \u001b[1;32mraise\u001b[0m \u001b[0mexception_class\u001b[0m\u001b[1;33m(\u001b[0m\u001b[0mmessage\u001b[0m\u001b[1;33m,\u001b[0m \u001b[0mscreen\u001b[0m\u001b[1;33m,\u001b[0m \u001b[0mstacktrace\u001b[0m\u001b[1;33m,\u001b[0m \u001b[0malert_text\u001b[0m\u001b[1;33m)\u001b[0m  \u001b[1;31m# type: ignore[call-arg]  # mypy is not smart enough here\u001b[0m\u001b[1;33m\u001b[0m\u001b[1;33m\u001b[0m\u001b[0m\n\u001b[1;32m--> 245\u001b[1;33m         \u001b[1;32mraise\u001b[0m \u001b[0mexception_class\u001b[0m\u001b[1;33m(\u001b[0m\u001b[0mmessage\u001b[0m\u001b[1;33m,\u001b[0m \u001b[0mscreen\u001b[0m\u001b[1;33m,\u001b[0m \u001b[0mstacktrace\u001b[0m\u001b[1;33m)\u001b[0m\u001b[1;33m\u001b[0m\u001b[1;33m\u001b[0m\u001b[0m\n\u001b[0m",
      "\u001b[1;31mElementClickInterceptedException\u001b[0m: Message: element click intercepted: Element <a href=\"javascript:void(0);\">...</a> is not clickable at point (245, 277). Other element would receive the click: <div class=\"loading_dimm\" style=\"z-index: 20000; display: block;\"></div>\n  (Session info: chrome=110.0.5481.178)\nStacktrace:\nBacktrace:\n\t(No symbol) [0x00C037D3]\n\t(No symbol) [0x00B98B81]\n\t(No symbol) [0x00A9B36D]\n\t(No symbol) [0x00AD4E3B]\n\t(No symbol) [0x00AD26DB]\n\t(No symbol) [0x00ACFD0B]\n\t(No symbol) [0x00ACE4D8]\n\t(No symbol) [0x00AC3253]\n\t(No symbol) [0x00AEB41C]\n\t(No symbol) [0x00AC2B96]\n\t(No symbol) [0x00AEB774]\n\t(No symbol) [0x00B01215]\n\t(No symbol) [0x00AEB216]\n\t(No symbol) [0x00AC0D97]\n\t(No symbol) [0x00AC253D]\n\tGetHandleVerifier [0x00E7ABF2+2510930]\n\tGetHandleVerifier [0x00EA8EC1+2700065]\n\tGetHandleVerifier [0x00EAC86C+2714828]\n\tGetHandleVerifier [0x00CB3480+645344]\n\t(No symbol) [0x00BA0FD2]\n\t(No symbol) [0x00BA6C68]\n\t(No symbol) [0x00BA6D4B]\n\t(No symbol) [0x00BB0D6B]\n\tBaseThreadInitThunk [0x765D00F9+25]\n\tRtlGetAppContainerNamedObjectPath [0x77057BBE+286]\n\tRtlGetAppContainerNamedObjectPath [0x77057B8E+238]\n"
     ]
    }
   ],
   "source": [
    "# 파이썬으로 브라우저에서 단추 클릭하기\n",
    "\n",
    "area_btn = '#container > div > form > fieldset > div > section > article.find_store_cont > article > header.loca_search > h3 > a'\n",
    "driver.find_element(By.CSS_SELECTOR, area_btn).click()\n",
    "\n",
    "time.sleep(2)\n",
    "\n",
    "seoul_btn = '#container > div > form > fieldset > div > section > article.find_store_cont > article > article:nth-child(4) > div.loca_step1 > div.loca_step1_cont > ul > li:nth-child(1) > a'\n",
    "driver.find_element(By.CSS_SELECTOR, seoul_btn).click()\n",
    "\n",
    "time.sleep(2)\n",
    "\n",
    "all_btn = '#container > div > form > fieldset > div > section > article.find_store_cont > article > article:nth-child(4) > div.loca_step1 > div.loca_step1_cont > ul > li:nth-child(1) > a'\n",
    "driver.find_element(By.CSS_SELECTOR, all_btn).click()\n",
    "\n"
   ]
  }
 ],
 "metadata": {
  "kernelspec": {
   "display_name": "base",
   "language": "python",
   "name": "python3"
  },
  "language_info": {
   "codemirror_mode": {
    "name": "ipython",
    "version": 3
   },
   "file_extension": ".py",
   "mimetype": "text/x-python",
   "name": "python",
   "nbconvert_exporter": "python",
   "pygments_lexer": "ipython3",
   "version": "3.9.13"
  },
  "orig_nbformat": 4,
  "vscode": {
   "interpreter": {
    "hash": "3f992d0eb12c9cbed0501e2ce4147e3285a168dc6b517bcda34c837bf4b671d0"
   }
  }
 },
 "nbformat": 4,
 "nbformat_minor": 2
}
