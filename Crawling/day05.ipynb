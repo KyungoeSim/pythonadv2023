{
 "cells": [
  {
   "cell_type": "code",
   "execution_count": 13,
   "metadata": {},
   "outputs": [],
   "source": [
    "#!pip install pymysql\n",
    "#!pip install requests\n",
    "#!pip install PyQt5\n",
    "\n",
    "import pymysql\n",
    "import requests"
   ]
  },
  {
   "cell_type": "code",
   "execution_count": 20,
   "metadata": {},
   "outputs": [],
   "source": [
    "conn = pymysql.connect(host='kyungoesim.cafe24.com', user='kyungoesim', password='ruddhl7913',db='kyungoesim', charset='utf8')"
   ]
  },
  {
   "cell_type": "code",
   "execution_count": 21,
   "metadata": {},
   "outputs": [],
   "source": [
    "cur = conn.cursor()"
   ]
  },
  {
   "cell_type": "code",
   "execution_count": 23,
   "metadata": {},
   "outputs": [
    {
     "name": "stdout",
     "output_type": "stream",
     "text": [
      "((b'aaa',\n",
      "  b'1111',\n",
      "  b'\\xec\\x8b\\xac\\xea\\xb2\\xbd\\xec\\x99\\xb8',\n",
      "  datetime.datetime(2023, 2, 6, 23, 23, 29)),\n",
      " (b'admin',\n",
      "  b'1111',\n",
      "  b'\\xec\\x8b\\xac\\xea\\xb2\\xbd\\xec\\x99\\xb8',\n",
      "  datetime.datetime(2023, 2, 5, 22, 48, 9)),\n",
      " (b'ddd', b'1111', b'dd', datetime.datetime(2023, 2, 6, 23, 20, 2)),\n",
      " (b'tlaruddhl@daum.net',\n",
      "  b'1111',\n",
      "  b'Kyungoe Sim',\n",
      "  datetime.datetime(2023, 2, 6, 23, 19, 48)),\n",
      " (b'tlaruddhl@naver.com',\n",
      "  b'1111',\n",
      "  b'\\xec\\x8b\\xac\\xea\\xb2\\xbd\\xec\\x99\\xb8',\n",
      "  datetime.datetime(2023, 2, 5, 4, 39, 56)),\n",
      " (b'\\xec\\x8b\\xac\\xea\\xb2\\xbd\\xec\\x99\\xb8@\\xeb\\x84\\xa4\\xec\\x9d\\xb4\\xeb\\xb2\\x84.'\n",
      "  b'\\xec\\xbb\\xb4',\n",
      "  b'1111',\n",
      "  b'\\xec\\x8b\\xac\\xea\\xb2\\xbd\\xec\\x99\\xb8',\n",
      "  datetime.datetime(2023, 2, 10, 12, 10, 52)))\n"
     ]
    }
   ],
   "source": [
    "cur.execute(\"SELECT * FROM user\")\n",
    "result=cur.fetchall()\n",
    "\n",
    "import pprint\n",
    "pprint.pprint(result)"
   ]
  },
  {
   "cell_type": "code",
   "execution_count": 1,
   "metadata": {},
   "outputs": [
    {
     "ename": "SystemExit",
     "evalue": "0",
     "output_type": "error",
     "traceback": [
      "An exception has occurred, use %tb to see the full traceback.\n",
      "\u001b[1;31mSystemExit\u001b[0m\u001b[1;31m:\u001b[0m 0\n"
     ]
    },
    {
     "name": "stderr",
     "output_type": "stream",
     "text": [
      "c:\\Users\\tlaru\\anaconda3\\lib\\site-packages\\IPython\\core\\interactiveshell.py:3465: UserWarning: To exit: use 'exit', 'quit', or Ctrl-D.\n",
      "  warn(\"To exit: use 'exit', 'quit', or Ctrl-D.\", stacklevel=1)\n"
     ]
    }
   ],
   "source": [
    "#윈도우 창 띄우기\n",
    "\n",
    "#필요한 모듈 읽어오기 기본적인 창 구성요소를 제공하는 모든것은 QApplication, QWidget에 만들어져있다.\n",
    "\n",
    "import sys\n",
    "from PyQt5.QtWidgets import QApplication, QWidget\n",
    "\n",
    "\n",
    "class MyApp(QWidget):\n",
    "    # 생성자 설정\n",
    "    def __init__(self):\n",
    "        super().__init__()\n",
    "        self.initUI()\n",
    "\n",
    "    # 창 기본 설정, 여기서는 제목만 설정하였다. \n",
    "    def initUI(self):\n",
    "        self.setWindowTitle(\"Hello World!!!\")  \n",
    "        self.show()\n",
    "\n",
    "# 파이썬은 기본적으로 인터프리터 이기 때문에 한줄한줄 코드를 실행하고 마치게 된다. \n",
    "# 열려진 윈도우 창을 계속 유지시켜야 한다. \n",
    "app = QApplication(sys.argv)\n",
    "ex = MyApp()\n",
    "sys.exit(app.exec_())"
   ]
  },
  {
   "cell_type": "code",
   "execution_count": 1,
   "metadata": {},
   "outputs": [
    {
     "ename": "SystemExit",
     "evalue": "0",
     "output_type": "error",
     "traceback": [
      "An exception has occurred, use %tb to see the full traceback.\n",
      "\u001b[1;31mSystemExit\u001b[0m\u001b[1;31m:\u001b[0m 0\n"
     ]
    },
    {
     "name": "stderr",
     "output_type": "stream",
     "text": [
      "c:\\Users\\tlaru\\anaconda3\\lib\\site-packages\\IPython\\core\\interactiveshell.py:3465: UserWarning: To exit: use 'exit', 'quit', or Ctrl-D.\n",
      "  warn(\"To exit: use 'exit', 'quit', or Ctrl-D.\", stacklevel=1)\n"
     ]
    },
    {
     "ename": "",
     "evalue": "",
     "output_type": "error",
     "traceback": [
      "\u001b[1;31mThe Kernel crashed while executing code in the the current cell or a previous cell. Please review the code in the cell(s) to identify a possible cause of the failure. Click <a href='https://aka.ms/vscodeJupyterKernelCrash'>here</a> for more info. View Jupyter <a href='command:jupyter.viewOutput'>log</a> for further details."
     ]
    }
   ],
   "source": [
    "import sys\n",
    "from PyQt5.QtWidgets import QApplication, QWidget, QPushButton\n",
    "from PyQt5.QtCore import QCoreApplication\n",
    "\n",
    "\n",
    "class MyApp(QWidget):\n",
    "    # 생성자 설정\n",
    "    def __init__(self):\n",
    "        super().__init__()\n",
    "        self.initUI()\n",
    "\n",
    "    # 창 기본 설정, 여기서는 제목만 설정하였다. \n",
    "    def initUI(self):\n",
    "        self.setWindowTitle(\"Hello World!!!\")  \n",
    "        btn = QPushButton('Quit', self)\n",
    "        btn.clicked.connect(QCoreApplication.instance().quit)\n",
    "\n",
    "        self.show()\n",
    "\n",
    "# 파이썬은 기본적으로 인터프리터 이기 때문에 한줄한줄 코드를 실행하고 마치게 된다. \n",
    "# 열려진 윈도우 창을 계속 유지시켜야 한다. \n",
    "app = QApplication(sys.argv)\n",
    "ex = MyApp()\n",
    "sys.exit(app.exec_())"
   ]
  },
  {
   "cell_type": "code",
   "execution_count": 1,
   "metadata": {},
   "outputs": [
    {
     "ename": "SystemExit",
     "evalue": "0",
     "output_type": "error",
     "traceback": [
      "An exception has occurred, use %tb to see the full traceback.\n",
      "\u001b[1;31mSystemExit\u001b[0m\u001b[1;31m:\u001b[0m 0\n"
     ]
    },
    {
     "name": "stderr",
     "output_type": "stream",
     "text": [
      "c:\\Users\\tlaru\\anaconda3\\lib\\site-packages\\IPython\\core\\interactiveshell.py:3465: UserWarning: To exit: use 'exit', 'quit', or Ctrl-D.\n",
      "  warn(\"To exit: use 'exit', 'quit', or Ctrl-D.\", stacklevel=1)\n"
     ]
    }
   ],
   "source": [
    "import sys\n",
    "from PyQt5.QtWidgets import QApplication, QMainWindow, QAction, qApp\n",
    "from PyQt5.QtGui import QIcon\n",
    "\n",
    "\n",
    "class MyApp(QMainWindow):\n",
    "\n",
    "    def __init__(self):\n",
    "        super().__init__()\n",
    "        self.initUI()\n",
    "\n",
    "    def initUI(self):\n",
    "        exitAction = QAction(QIcon('exit.png'), 'Exit', self)\n",
    "        exitAction.setShortcut('Ctrl+Q')\n",
    "        exitAction.setStatusTip('Exit application')\n",
    "        exitAction.triggered.connect(qApp.quit)\n",
    "\n",
    "        self.statusBar()\n",
    "\n",
    "        menubar = self.menuBar()\n",
    "        menubar.setNativeMenuBar(False)\n",
    "        filemenu = menubar.addMenu('&File')\n",
    "        filemenu.addAction(exitAction)\n",
    "\n",
    "        self.setWindowTitle('Menubar')\n",
    "        self.setGeometry(300, 300, 300, 200)\n",
    "        self.show()\n",
    "\n",
    "\n",
    "if __name__ == '__main__':\n",
    "    app = QApplication(sys.argv)\n",
    "    ex = MyApp()\n",
    "    sys.exit(app.exec_())"
   ]
  },
  {
   "cell_type": "code",
   "execution_count": 1,
   "metadata": {},
   "outputs": [
    {
     "data": {
      "text/plain": [
       "0"
      ]
     },
     "execution_count": 1,
     "metadata": {},
     "output_type": "execute_result"
    }
   ],
   "source": [
    "import sys\n",
    "from PyQt5.QtWidgets import *\n",
    "from PyQt5 import uic\n",
    "\n",
    "form_class = uic.loadUiType(\"mywindow.ui\")[0]\n",
    "\n",
    "class MyWindow(QMainWindow, form_class):\n",
    "\n",
    "    def __init__(self):\n",
    "        super().__init__()\n",
    "        self.setupUi(self)\n",
    "\n",
    "app = QApplication(sys.argv)\n",
    "window = MyWindow()\n",
    "window.show()\n",
    "app.exec_()"
   ]
  },
  {
   "cell_type": "code",
   "execution_count": 1,
   "metadata": {},
   "outputs": [
    {
     "name": "stdout",
     "output_type": "stream",
     "text": [
      "클릭 확인\n",
      "클릭 확인\n"
     ]
    },
    {
     "data": {
      "text/plain": [
       "0"
      ]
     },
     "execution_count": 1,
     "metadata": {},
     "output_type": "execute_result"
    }
   ],
   "source": [
    "# QT Designer 로 생성한 윈도우 창을 여는 방법\n",
    "\n",
    "\n",
    "# 윈도우 기본창 띄우기 \n",
    "\n",
    "import sys\n",
    "from PyQt5.QtWidgets import *\n",
    "from PyQt5 import uic\n",
    "\n",
    "form_class = uic.loadUiType(\"mywindow2.ui\")[0]\n",
    "\n",
    "class MyWindow(QMainWindow, form_class):\n",
    "\n",
    "    def __init__(self):\n",
    "        super().__init__()\n",
    "        self.setupUi(self)\n",
    "        self.pushButton.clicked.connect(self.btn_clicked)\n",
    "\n",
    "    def btn_clicked(self):\n",
    "        print(\"클릭 확인\")\n",
    "\n",
    "app = QApplication(sys.argv)\n",
    "window = MyWindow()\n",
    "window.show()\n",
    "app.exec_()\n",
    " "
   ]
  },
  {
   "cell_type": "code",
   "execution_count": null,
   "metadata": {},
   "outputs": [],
   "source": [
    "\n",
    "import sys\n",
    "from PyQt5.QtWidgets import *\n",
    "from PyQt5 import uic\n",
    "\n",
    "form_class = uic.loadUiType(\"mywindow3.ui\")[0]\n",
    "\n",
    "class MyWindow(QMainWindow, form_class):\n",
    "\n",
    "    def __init__(self):\n",
    "        super().__init__()\n",
    "        self.setupUi(self)\n",
    "        self.pushButton_1.clicked.connect(self.btn1_clicked)\n",
    "        self.pushButton_2.clicked.connect(self.btn2_clicked)\n",
    "\n",
    "    def btn1_clicked(self):\n",
    "        print(\"클릭1 확인\")\n",
    "    def btn2_clicked(self):\n",
    "        print(\"클릭2 확인\")\n",
    "\n",
    "app = QApplication(sys.argv)\n",
    "window = MyWindow()\n",
    "window.show()\n",
    "app.exec_()"
   ]
  },
  {
   "cell_type": "code",
   "execution_count": 1,
   "metadata": {},
   "outputs": [
    {
     "name": "stdout",
     "output_type": "stream",
     "text": [
      "radio button 1 Checked\n",
      "radio button 2 Checked\n",
      "radio button 3 Checked\n"
     ]
    },
    {
     "data": {
      "text/plain": [
       "0"
      ]
     },
     "execution_count": 1,
     "metadata": {},
     "output_type": "execute_result"
    }
   ],
   "source": [
    "#radio 버튼은 여러개중 하나만 선택\n",
    "\n",
    "import sys\n",
    "from PyQt5.QtWidgets import *\n",
    "from PyQt5 import uic\n",
    "\n",
    "form_class = uic.loadUiType(\"mywindow3.ui\")[0]\n",
    "\n",
    "class MyWindow(QMainWindow, form_class):\n",
    "\n",
    "    def __init__(self):\n",
    "        super().__init__()\n",
    "        self.setupUi(self)\n",
    "\n",
    "        self.radioButton_1.clicked.connect(self.radioFunction)\n",
    "        self.radioButton_2.clicked.connect(self.radioFunction)\n",
    "        self.radioButton_3.clicked.connect(self.radioFunction)\n",
    "\n",
    "    def radioFunction(self):\n",
    "        if self.radioButton_1.isChecked() : \n",
    "            print(\"radio button 1 Checked\")\n",
    "        elif self.radioButton_2.isChecked() : \n",
    "            print(\"radio button 2 Checked\")\n",
    "        elif self.radioButton_3.isChecked() : \n",
    "            print(\"radio button 3 Checked\")\n",
    "        \n",
    "\n",
    "app = QApplication(sys.argv)\n",
    "window = MyWindow()\n",
    "window.show()\n",
    "app.exec_()"
   ]
  },
  {
   "cell_type": "code",
   "execution_count": 1,
   "metadata": {},
   "outputs": [
    {
     "data": {
      "text/plain": [
       "0"
      ]
     },
     "execution_count": 1,
     "metadata": {},
     "output_type": "execute_result"
    }
   ],
   "source": [
    "#check box 체크박스는 중복선택\n",
    "\n",
    "import sys\n",
    "from PyQt5.QtWidgets import *\n",
    "from PyQt5 import uic\n",
    "\n",
    "form_class = uic.loadUiType(\"mywindow4.ui\")[0]\n",
    "\n",
    "class MyWindow(QMainWindow, form_class):\n",
    "\n",
    "    def __init__(self):\n",
    "        super().__init__()\n",
    "        self.setupUi(self)\n",
    "\n",
    "        self.check1.stateChanged.connect(self.chkFunction)\n",
    "        self.check2.stateChanged.connect(self.chkFunction)\n",
    "        self.check3.stateChanged.connect(self.chkFunction)\n",
    "\n",
    "        self.checkBox1.stateChanged.connect(self.chkBoxFunction)\n",
    "        self.checkBox2.stateChanged.connect(self.chkBoxFunction)\n",
    "        self.checkBox3.stateChanged.connect(self.chkBoxFunction)\n",
    "\n",
    "\n",
    "#여러개가 동시 선책될 수 있기 때문에 elif를 사용하지 않는다.\n",
    "    def chkFunction(self):\n",
    "        if self.check1.isChecked() : \n",
    "            print(\"check 1 Checked\")\n",
    "        if self.check2.isChecked() : \n",
    "            print(\"check 2 Checked\")\n",
    "        if self.check3.isChecked() : \n",
    "            print(\"check 3 Checked\")\n",
    "\n",
    "    def chkBoxFunction(self):\n",
    "        if self.checkBox1.isChecked() : \n",
    "            print(\"checkBox 1 Checked\")\n",
    "        if self.checkBox2.isChecked() : \n",
    "            print(\"checkBox 2 Checked\")\n",
    "        if self.checkBox3.isChecked() : \n",
    "            print(\"checkBox 3 Checked\")        \n",
    "\n",
    "\n",
    "app = QApplication(sys.argv)\n",
    "window = MyWindow()\n",
    "window.show()\n",
    "app.exec_()"
   ]
  },
  {
   "cell_type": "code",
   "execution_count": 1,
   "metadata": {},
   "outputs": [
    {
     "name": "stdout",
     "output_type": "stream",
     "text": [
      "\n",
      "\n"
     ]
    },
    {
     "data": {
      "text/plain": [
       "0"
      ]
     },
     "execution_count": 1,
     "metadata": {},
     "output_type": "execute_result"
    }
   ],
   "source": [
    "# 라벨 처리\n",
    "\n",
    "import sys\n",
    "from PyQt5.QtWidgets import *\n",
    "from PyQt5 import uic\n",
    "\n",
    "form_class = uic.loadUiType(\"mywindow6.ui\")[0]\n",
    "\n",
    "class MyWindow(QMainWindow, form_class):\n",
    "\n",
    "    def __init__(self):\n",
    "        super().__init__()\n",
    "        self.setupUi(self)\n",
    "\n",
    "        self.melonButton.clicked.connect(self.melonFunction)\n",
    "        self.genieButton.clicked.connect(self.genieFunction)\n",
    "        self.deleteButton.clicked.connect(self.deleteFunction)\n",
    "        self.printButton.clicked.connect(self.printFunction)\n",
    "\n",
    "    def melonFunction(self) :\n",
    "        self.label.setText(\"멜론 차트 조회\")\n",
    "\n",
    "    def genieFunction(self) :\n",
    "        self.label.setText(\"지니 차트 조회\")\n",
    "\n",
    "    def deleteFunction(self) :\n",
    "        self.label.clear()\n",
    "\n",
    "    def printFunction(self) :\n",
    "        print(self.label.text())\n",
    "\n",
    "app = QApplication(sys.argv)\n",
    "window = MyWindow()\n",
    "window.show()\n",
    "app.exec_()"
   ]
  },
  {
   "cell_type": "code",
   "execution_count": 1,
   "metadata": {},
   "outputs": [
    {
     "name": "stdout",
     "output_type": "stream",
     "text": [
      "\n",
      "텍스트 브라우저 글자 변경 테스트\n",
      "텍스트 브라우저 글자 변경 테스트\n"
     ]
    },
    {
     "data": {
      "text/plain": [
       "0"
      ]
     },
     "execution_count": 1,
     "metadata": {},
     "output_type": "execute_result"
    }
   ],
   "source": [
    "# text browser\n",
    "\n",
    "import sys\n",
    "from PyQt5.QtWidgets import *\n",
    "from PyQt5 import uic\n",
    "\n",
    "form_class = uic.loadUiType(\"mywindow7.ui\")[0]\n",
    "\n",
    "class MyWindow(QMainWindow, form_class):\n",
    "\n",
    "    def __init__(self):\n",
    "        super().__init__()\n",
    "        self.setupUi(self)\n",
    "\n",
    "        self.printbrowserButton.clicked.connect(self.printFunction)\n",
    "        self.settextButton.clicked.connect(self.setFunction)\n",
    "        self.appendtextButton.clicked.connect(self.appendFunction)\n",
    "        self.clearButton.clicked.connect(self.clearFunction)\n",
    "\n",
    "    def printFunction(self) :\n",
    "        print(self.textBrowser.toPlainText())\n",
    "\n",
    "    def setFunction(self) :\n",
    "        self.textBrowser.setPlainText(\"텍스트 브라우저 글자 변경 테스트\")\n",
    "\n",
    "    def appendFunction(self) :\n",
    "        self.textBrowser.append(\"텍스트 추가 테스트\")\n",
    "\n",
    "    def clearFunction(self) :\n",
    "        self.textBrowser.clear()\n",
    "\n",
    "app = QApplication(sys.argv)\n",
    "window = MyWindow()\n",
    "window.show()\n",
    "app.exec_()"
   ]
  },
  {
   "cell_type": "code",
   "execution_count": 1,
   "metadata": {},
   "outputs": [
    {
     "ename": "AttributeError",
     "evalue": "'MyWindow' object has no attribute 'lineEditchangeButton'",
     "output_type": "error",
     "traceback": [
      "\u001b[1;31m---------------------------------------------------------------------------\u001b[0m",
      "\u001b[1;31mAttributeError\u001b[0m                            Traceback (most recent call last)",
      "\u001b[1;32m~\\AppData\\Local\\Temp\\ipykernel_10568\\1999021808.py\u001b[0m in \u001b[0;36m<module>\u001b[1;34m\u001b[0m\n\u001b[0;32m     28\u001b[0m \u001b[1;33m\u001b[0m\u001b[0m\n\u001b[0;32m     29\u001b[0m \u001b[0mapp\u001b[0m \u001b[1;33m=\u001b[0m \u001b[0mQApplication\u001b[0m\u001b[1;33m(\u001b[0m\u001b[0msys\u001b[0m\u001b[1;33m.\u001b[0m\u001b[0margv\u001b[0m\u001b[1;33m)\u001b[0m\u001b[1;33m\u001b[0m\u001b[1;33m\u001b[0m\u001b[0m\n\u001b[1;32m---> 30\u001b[1;33m \u001b[0mwindow\u001b[0m \u001b[1;33m=\u001b[0m \u001b[0mMyWindow\u001b[0m\u001b[1;33m(\u001b[0m\u001b[1;33m)\u001b[0m\u001b[1;33m\u001b[0m\u001b[1;33m\u001b[0m\u001b[0m\n\u001b[0m\u001b[0;32m     31\u001b[0m \u001b[0mwindow\u001b[0m\u001b[1;33m.\u001b[0m\u001b[0mshow\u001b[0m\u001b[1;33m(\u001b[0m\u001b[1;33m)\u001b[0m\u001b[1;33m\u001b[0m\u001b[1;33m\u001b[0m\u001b[0m\n\u001b[0;32m     32\u001b[0m \u001b[0mapp\u001b[0m\u001b[1;33m.\u001b[0m\u001b[0mexec_\u001b[0m\u001b[1;33m(\u001b[0m\u001b[1;33m)\u001b[0m\u001b[1;33m\u001b[0m\u001b[1;33m\u001b[0m\u001b[0m\n",
      "\u001b[1;32m~\\AppData\\Local\\Temp\\ipykernel_10568\\1999021808.py\u001b[0m in \u001b[0;36m__init__\u001b[1;34m(self)\u001b[0m\n\u001b[0;32m     15\u001b[0m         \u001b[0mself\u001b[0m\u001b[1;33m.\u001b[0m\u001b[0mlineEdit\u001b[0m\u001b[1;33m.\u001b[0m\u001b[0mtextChanged\u001b[0m\u001b[1;33m.\u001b[0m\u001b[0mconnect\u001b[0m\u001b[1;33m(\u001b[0m\u001b[0mself\u001b[0m\u001b[1;33m.\u001b[0m\u001b[0mlineeditFunction\u001b[0m\u001b[1;33m)\u001b[0m\u001b[1;33m\u001b[0m\u001b[1;33m\u001b[0m\u001b[0m\n\u001b[0;32m     16\u001b[0m         \u001b[0mself\u001b[0m\u001b[1;33m.\u001b[0m\u001b[0mlineEdit\u001b[0m\u001b[1;33m.\u001b[0m\u001b[0mreturnPressed\u001b[0m\u001b[1;33m.\u001b[0m\u001b[0mconnect\u001b[0m\u001b[1;33m(\u001b[0m\u001b[0mself\u001b[0m\u001b[1;33m.\u001b[0m\u001b[0mreturnFunction\u001b[0m\u001b[1;33m)\u001b[0m\u001b[1;33m\u001b[0m\u001b[1;33m\u001b[0m\u001b[0m\n\u001b[1;32m---> 17\u001b[1;33m         \u001b[0mself\u001b[0m\u001b[1;33m.\u001b[0m\u001b[0mlineEditchangeButton\u001b[0m\u001b[1;33m.\u001b[0m\u001b[0mclicked\u001b[0m\u001b[1;33m.\u001b[0m\u001b[0mconnect\u001b[0m\u001b[1;33m(\u001b[0m\u001b[0mself\u001b[0m\u001b[1;33m.\u001b[0m\u001b[0mchangeFunction\u001b[0m\u001b[1;33m)\u001b[0m\u001b[1;33m\u001b[0m\u001b[1;33m\u001b[0m\u001b[0m\n\u001b[0m\u001b[0;32m     18\u001b[0m \u001b[1;33m\u001b[0m\u001b[0m\n\u001b[0;32m     19\u001b[0m     \u001b[1;32mdef\u001b[0m \u001b[0mlineeditFunction\u001b[0m\u001b[1;33m(\u001b[0m\u001b[0mself\u001b[0m\u001b[1;33m)\u001b[0m \u001b[1;33m:\u001b[0m\u001b[1;33m\u001b[0m\u001b[1;33m\u001b[0m\u001b[0m\n",
      "\u001b[1;31mAttributeError\u001b[0m: 'MyWindow' object has no attribute 'lineEditchangeButton'"
     ]
    }
   ],
   "source": [
    "# text browser\n",
    "\n",
    "import sys\n",
    "from PyQt5.QtWidgets import *\n",
    "from PyQt5 import uic\n",
    "\n",
    "form_class = uic.loadUiType(\"mywindow7.ui\")[0]\n",
    "\n",
    "class MyWindow(QMainWindow, form_class):\n",
    "\n",
    "    def __init__(self):\n",
    "        super().__init__()\n",
    "        self.setupUi(self)\n",
    "\n",
    "        self.lineEdit.textChanged.connect(self.lineeditFunction)\n",
    "        self.lineEdit.returnPressed.connect(self.returnFunction)\n",
    "        self.lineeditchangeButton.clicked.connect(self.changeFunction)\n",
    "\n",
    "    def lineeditFunction(self) :\n",
    "        self.label_text.setText(self.lineEdit.text())\n",
    "\n",
    "    def returnFunction(self) :\n",
    "        print(self.lineEdit.text())\n",
    "\n",
    "    def changeFunction(self) :\n",
    "        self.lineEdit.setText(\"글자변경\")\n",
    "\n",
    "\n",
    "app = QApplication(sys.argv)\n",
    "window = MyWindow()\n",
    "window.show()\n",
    "app.exec_()"
   ]
  }
 ],
 "metadata": {
  "kernelspec": {
   "display_name": "base",
   "language": "python",
   "name": "python3"
  },
  "language_info": {
   "name": "python",
   "version": "3.9.13"
  },
  "orig_nbformat": 4
 },
 "nbformat": 4,
 "nbformat_minor": 2
}
